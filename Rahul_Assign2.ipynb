{
  "cells": [
    {
      "cell_type": "markdown",
      "metadata": {
        "id": "rAPNZIj8xi5_"
      },
      "source": [
        "# Assignment 2 - Analyzing Thanksgiving Dinner"
      ]
    },
    {
      "cell_type": "markdown",
      "metadata": {
        "id": "iRAaLkPMxi6B"
      },
      "source": [
        "In this assignment, you will work with the **Thanksgiving Dinner Dataset**. The dataset was created by FiveThirtyEight using a SurveyMonkey poll, in which they asked 1,058 respondents on Nov. 17, 2015 a number of questions regarding their Thanksgiving preferences.\n",
        "\n",
        "No details are needed for the attributes of this dataset as each column is a long self-explanatory string. You would have to read this dataset using a specific encoding scheme (Hint: Latin), otherwise it would result in read errors."
      ]
    },
    {
      "cell_type": "code",
      "execution_count": 2,
      "metadata": {
        "colab": {
          "base_uri": "https://localhost:8080/",
          "height": 516
        },
        "id": "ofF2lqioxi6B",
        "outputId": "5dcd11bd-aac4-4bf6-d73f-c36212300205"
      },
      "outputs": [
        {
          "output_type": "execute_result",
          "data": {
            "text/plain": [
              "   RespondentID Do you celebrate Thanksgiving?  \\\n",
              "0    4337954960                            Yes   \n",
              "1    4337951949                            Yes   \n",
              "2    4337935621                            Yes   \n",
              "3    4337933040                            Yes   \n",
              "4    4337931983                            Yes   \n",
              "\n",
              "  What is typically the main dish at your Thanksgiving dinner?  \\\n",
              "0                                             Turkey             \n",
              "1                                             Turkey             \n",
              "2                                             Turkey             \n",
              "3                                             Turkey             \n",
              "4                                           Tofurkey             \n",
              "\n",
              "  What is typically the main dish at your Thanksgiving dinner? - Other (please specify)  \\\n",
              "0                                                NaN                                      \n",
              "1                                                NaN                                      \n",
              "2                                                NaN                                      \n",
              "3                                                NaN                                      \n",
              "4                                                NaN                                      \n",
              "\n",
              "  How is the main dish typically cooked?  \\\n",
              "0                                  Baked   \n",
              "1                                  Baked   \n",
              "2                                Roasted   \n",
              "3                                  Baked   \n",
              "4                                  Baked   \n",
              "\n",
              "  How is the main dish typically cooked? - Other (please specify)  \\\n",
              "0                                                NaN                \n",
              "1                                                NaN                \n",
              "2                                                NaN                \n",
              "3                                                NaN                \n",
              "4                                                NaN                \n",
              "\n",
              "  What kind of stuffing/dressing do you typically have?  \\\n",
              "0                                        Bread-based      \n",
              "1                                        Bread-based      \n",
              "2                                         Rice-based      \n",
              "3                                        Bread-based      \n",
              "4                                        Bread-based      \n",
              "\n",
              "  What kind of stuffing/dressing do you typically have? - Other (please specify)  \\\n",
              "0                                                NaN                               \n",
              "1                                                NaN                               \n",
              "2                                                NaN                               \n",
              "3                                                NaN                               \n",
              "4                                                NaN                               \n",
              "\n",
              "  What type of cranberry saucedo you typically have?  \\\n",
              "0                                               None   \n",
              "1                             Other (please specify)   \n",
              "2                                           Homemade   \n",
              "3                                           Homemade   \n",
              "4                                             Canned   \n",
              "\n",
              "  What type of cranberry saucedo you typically have? - Other (please specify)  \\\n",
              "0                                                NaN                            \n",
              "1                    Homemade cranberry gelatin ring                            \n",
              "2                                                NaN                            \n",
              "3                                                NaN                            \n",
              "4                                                NaN                            \n",
              "\n",
              "   ...  \\\n",
              "0  ...   \n",
              "1  ...   \n",
              "2  ...   \n",
              "3  ...   \n",
              "4  ...   \n",
              "\n",
              "  Have you ever tried to meet up with hometown friends on Thanksgiving night?  \\\n",
              "0                                                Yes                            \n",
              "1                                                 No                            \n",
              "2                                                Yes                            \n",
              "3                                                Yes                            \n",
              "4                                                Yes                            \n",
              "\n",
              "  Have you ever attended a \"Friendsgiving?\"  \\\n",
              "0                                        No   \n",
              "1                                        No   \n",
              "2                                       Yes   \n",
              "3                                        No   \n",
              "4                                        No   \n",
              "\n",
              "  Will you shop any Black Friday sales on Thanksgiving Day?  \\\n",
              "0                                                 No          \n",
              "1                                                Yes          \n",
              "2                                                Yes          \n",
              "3                                                 No          \n",
              "4                                                 No          \n",
              "\n",
              "  Do you work in retail? Will you employer make you work on Black Friday?  \\\n",
              "0                     No                                              NaN   \n",
              "1                     No                                              NaN   \n",
              "2                     No                                              NaN   \n",
              "3                     No                                              NaN   \n",
              "4                     No                                              NaN   \n",
              "\n",
              "  How would you describe where you live?      Age What is your gender?  \\\n",
              "0                               Suburban  18 - 29                 Male   \n",
              "1                                  Rural  18 - 29               Female   \n",
              "2                               Suburban  18 - 29                 Male   \n",
              "3                                  Urban  30 - 44                 Male   \n",
              "4                                  Urban  30 - 44                 Male   \n",
              "\n",
              "  How much total combined money did all members of your HOUSEHOLD earn last year?  \\\n",
              "0                                 $75,000 to $99,999                                \n",
              "1                                 $50,000 to $74,999                                \n",
              "2                                       $0 to $9,999                                \n",
              "3                                    $200,000 and up                                \n",
              "4                               $100,000 to $124,999                                \n",
              "\n",
              "            US Region  \n",
              "0     Middle Atlantic  \n",
              "1  East South Central  \n",
              "2            Mountain  \n",
              "3             Pacific  \n",
              "4             Pacific  \n",
              "\n",
              "[5 rows x 65 columns]"
            ],
            "text/html": [
              "\n",
              "  <div id=\"df-06dbe498-7aa6-414b-a00c-0d8296c8cc9d\" class=\"colab-df-container\">\n",
              "    <div>\n",
              "<style scoped>\n",
              "    .dataframe tbody tr th:only-of-type {\n",
              "        vertical-align: middle;\n",
              "    }\n",
              "\n",
              "    .dataframe tbody tr th {\n",
              "        vertical-align: top;\n",
              "    }\n",
              "\n",
              "    .dataframe thead th {\n",
              "        text-align: right;\n",
              "    }\n",
              "</style>\n",
              "<table border=\"1\" class=\"dataframe\">\n",
              "  <thead>\n",
              "    <tr style=\"text-align: right;\">\n",
              "      <th></th>\n",
              "      <th>RespondentID</th>\n",
              "      <th>Do you celebrate Thanksgiving?</th>\n",
              "      <th>What is typically the main dish at your Thanksgiving dinner?</th>\n",
              "      <th>What is typically the main dish at your Thanksgiving dinner? - Other (please specify)</th>\n",
              "      <th>How is the main dish typically cooked?</th>\n",
              "      <th>How is the main dish typically cooked? - Other (please specify)</th>\n",
              "      <th>What kind of stuffing/dressing do you typically have?</th>\n",
              "      <th>What kind of stuffing/dressing do you typically have? - Other (please specify)</th>\n",
              "      <th>What type of cranberry saucedo you typically have?</th>\n",
              "      <th>What type of cranberry saucedo you typically have? - Other (please specify)</th>\n",
              "      <th>...</th>\n",
              "      <th>Have you ever tried to meet up with hometown friends on Thanksgiving night?</th>\n",
              "      <th>Have you ever attended a \"Friendsgiving?\"</th>\n",
              "      <th>Will you shop any Black Friday sales on Thanksgiving Day?</th>\n",
              "      <th>Do you work in retail?</th>\n",
              "      <th>Will you employer make you work on Black Friday?</th>\n",
              "      <th>How would you describe where you live?</th>\n",
              "      <th>Age</th>\n",
              "      <th>What is your gender?</th>\n",
              "      <th>How much total combined money did all members of your HOUSEHOLD earn last year?</th>\n",
              "      <th>US Region</th>\n",
              "    </tr>\n",
              "  </thead>\n",
              "  <tbody>\n",
              "    <tr>\n",
              "      <th>0</th>\n",
              "      <td>4337954960</td>\n",
              "      <td>Yes</td>\n",
              "      <td>Turkey</td>\n",
              "      <td>NaN</td>\n",
              "      <td>Baked</td>\n",
              "      <td>NaN</td>\n",
              "      <td>Bread-based</td>\n",
              "      <td>NaN</td>\n",
              "      <td>None</td>\n",
              "      <td>NaN</td>\n",
              "      <td>...</td>\n",
              "      <td>Yes</td>\n",
              "      <td>No</td>\n",
              "      <td>No</td>\n",
              "      <td>No</td>\n",
              "      <td>NaN</td>\n",
              "      <td>Suburban</td>\n",
              "      <td>18 - 29</td>\n",
              "      <td>Male</td>\n",
              "      <td>$75,000 to $99,999</td>\n",
              "      <td>Middle Atlantic</td>\n",
              "    </tr>\n",
              "    <tr>\n",
              "      <th>1</th>\n",
              "      <td>4337951949</td>\n",
              "      <td>Yes</td>\n",
              "      <td>Turkey</td>\n",
              "      <td>NaN</td>\n",
              "      <td>Baked</td>\n",
              "      <td>NaN</td>\n",
              "      <td>Bread-based</td>\n",
              "      <td>NaN</td>\n",
              "      <td>Other (please specify)</td>\n",
              "      <td>Homemade cranberry gelatin ring</td>\n",
              "      <td>...</td>\n",
              "      <td>No</td>\n",
              "      <td>No</td>\n",
              "      <td>Yes</td>\n",
              "      <td>No</td>\n",
              "      <td>NaN</td>\n",
              "      <td>Rural</td>\n",
              "      <td>18 - 29</td>\n",
              "      <td>Female</td>\n",
              "      <td>$50,000 to $74,999</td>\n",
              "      <td>East South Central</td>\n",
              "    </tr>\n",
              "    <tr>\n",
              "      <th>2</th>\n",
              "      <td>4337935621</td>\n",
              "      <td>Yes</td>\n",
              "      <td>Turkey</td>\n",
              "      <td>NaN</td>\n",
              "      <td>Roasted</td>\n",
              "      <td>NaN</td>\n",
              "      <td>Rice-based</td>\n",
              "      <td>NaN</td>\n",
              "      <td>Homemade</td>\n",
              "      <td>NaN</td>\n",
              "      <td>...</td>\n",
              "      <td>Yes</td>\n",
              "      <td>Yes</td>\n",
              "      <td>Yes</td>\n",
              "      <td>No</td>\n",
              "      <td>NaN</td>\n",
              "      <td>Suburban</td>\n",
              "      <td>18 - 29</td>\n",
              "      <td>Male</td>\n",
              "      <td>$0 to $9,999</td>\n",
              "      <td>Mountain</td>\n",
              "    </tr>\n",
              "    <tr>\n",
              "      <th>3</th>\n",
              "      <td>4337933040</td>\n",
              "      <td>Yes</td>\n",
              "      <td>Turkey</td>\n",
              "      <td>NaN</td>\n",
              "      <td>Baked</td>\n",
              "      <td>NaN</td>\n",
              "      <td>Bread-based</td>\n",
              "      <td>NaN</td>\n",
              "      <td>Homemade</td>\n",
              "      <td>NaN</td>\n",
              "      <td>...</td>\n",
              "      <td>Yes</td>\n",
              "      <td>No</td>\n",
              "      <td>No</td>\n",
              "      <td>No</td>\n",
              "      <td>NaN</td>\n",
              "      <td>Urban</td>\n",
              "      <td>30 - 44</td>\n",
              "      <td>Male</td>\n",
              "      <td>$200,000 and up</td>\n",
              "      <td>Pacific</td>\n",
              "    </tr>\n",
              "    <tr>\n",
              "      <th>4</th>\n",
              "      <td>4337931983</td>\n",
              "      <td>Yes</td>\n",
              "      <td>Tofurkey</td>\n",
              "      <td>NaN</td>\n",
              "      <td>Baked</td>\n",
              "      <td>NaN</td>\n",
              "      <td>Bread-based</td>\n",
              "      <td>NaN</td>\n",
              "      <td>Canned</td>\n",
              "      <td>NaN</td>\n",
              "      <td>...</td>\n",
              "      <td>Yes</td>\n",
              "      <td>No</td>\n",
              "      <td>No</td>\n",
              "      <td>No</td>\n",
              "      <td>NaN</td>\n",
              "      <td>Urban</td>\n",
              "      <td>30 - 44</td>\n",
              "      <td>Male</td>\n",
              "      <td>$100,000 to $124,999</td>\n",
              "      <td>Pacific</td>\n",
              "    </tr>\n",
              "  </tbody>\n",
              "</table>\n",
              "<p>5 rows × 65 columns</p>\n",
              "</div>\n",
              "    <div class=\"colab-df-buttons\">\n",
              "\n",
              "  <div class=\"colab-df-container\">\n",
              "    <button class=\"colab-df-convert\" onclick=\"convertToInteractive('df-06dbe498-7aa6-414b-a00c-0d8296c8cc9d')\"\n",
              "            title=\"Convert this dataframe to an interactive table.\"\n",
              "            style=\"display:none;\">\n",
              "\n",
              "  <svg xmlns=\"http://www.w3.org/2000/svg\" height=\"24px\" viewBox=\"0 -960 960 960\">\n",
              "    <path d=\"M120-120v-720h720v720H120Zm60-500h600v-160H180v160Zm220 220h160v-160H400v160Zm0 220h160v-160H400v160ZM180-400h160v-160H180v160Zm440 0h160v-160H620v160ZM180-180h160v-160H180v160Zm440 0h160v-160H620v160Z\"/>\n",
              "  </svg>\n",
              "    </button>\n",
              "\n",
              "  <style>\n",
              "    .colab-df-container {\n",
              "      display:flex;\n",
              "      gap: 12px;\n",
              "    }\n",
              "\n",
              "    .colab-df-convert {\n",
              "      background-color: #E8F0FE;\n",
              "      border: none;\n",
              "      border-radius: 50%;\n",
              "      cursor: pointer;\n",
              "      display: none;\n",
              "      fill: #1967D2;\n",
              "      height: 32px;\n",
              "      padding: 0 0 0 0;\n",
              "      width: 32px;\n",
              "    }\n",
              "\n",
              "    .colab-df-convert:hover {\n",
              "      background-color: #E2EBFA;\n",
              "      box-shadow: 0px 1px 2px rgba(60, 64, 67, 0.3), 0px 1px 3px 1px rgba(60, 64, 67, 0.15);\n",
              "      fill: #174EA6;\n",
              "    }\n",
              "\n",
              "    .colab-df-buttons div {\n",
              "      margin-bottom: 4px;\n",
              "    }\n",
              "\n",
              "    [theme=dark] .colab-df-convert {\n",
              "      background-color: #3B4455;\n",
              "      fill: #D2E3FC;\n",
              "    }\n",
              "\n",
              "    [theme=dark] .colab-df-convert:hover {\n",
              "      background-color: #434B5C;\n",
              "      box-shadow: 0px 1px 3px 1px rgba(0, 0, 0, 0.15);\n",
              "      filter: drop-shadow(0px 1px 2px rgba(0, 0, 0, 0.3));\n",
              "      fill: #FFFFFF;\n",
              "    }\n",
              "  </style>\n",
              "\n",
              "    <script>\n",
              "      const buttonEl =\n",
              "        document.querySelector('#df-06dbe498-7aa6-414b-a00c-0d8296c8cc9d button.colab-df-convert');\n",
              "      buttonEl.style.display =\n",
              "        google.colab.kernel.accessAllowed ? 'block' : 'none';\n",
              "\n",
              "      async function convertToInteractive(key) {\n",
              "        const element = document.querySelector('#df-06dbe498-7aa6-414b-a00c-0d8296c8cc9d');\n",
              "        const dataTable =\n",
              "          await google.colab.kernel.invokeFunction('convertToInteractive',\n",
              "                                                    [key], {});\n",
              "        if (!dataTable) return;\n",
              "\n",
              "        const docLinkHtml = 'Like what you see? Visit the ' +\n",
              "          '<a target=\"_blank\" href=https://colab.research.google.com/notebooks/data_table.ipynb>data table notebook</a>'\n",
              "          + ' to learn more about interactive tables.';\n",
              "        element.innerHTML = '';\n",
              "        dataTable['output_type'] = 'display_data';\n",
              "        await google.colab.output.renderOutput(dataTable, element);\n",
              "        const docLink = document.createElement('div');\n",
              "        docLink.innerHTML = docLinkHtml;\n",
              "        element.appendChild(docLink);\n",
              "      }\n",
              "    </script>\n",
              "  </div>\n",
              "\n",
              "\n",
              "<div id=\"df-3b05e4b5-9bc1-48fe-8191-c7428e1496b7\">\n",
              "  <button class=\"colab-df-quickchart\" onclick=\"quickchart('df-3b05e4b5-9bc1-48fe-8191-c7428e1496b7')\"\n",
              "            title=\"Suggest charts\"\n",
              "            style=\"display:none;\">\n",
              "\n",
              "<svg xmlns=\"http://www.w3.org/2000/svg\" height=\"24px\"viewBox=\"0 0 24 24\"\n",
              "     width=\"24px\">\n",
              "    <g>\n",
              "        <path d=\"M19 3H5c-1.1 0-2 .9-2 2v14c0 1.1.9 2 2 2h14c1.1 0 2-.9 2-2V5c0-1.1-.9-2-2-2zM9 17H7v-7h2v7zm4 0h-2V7h2v10zm4 0h-2v-4h2v4z\"/>\n",
              "    </g>\n",
              "</svg>\n",
              "  </button>\n",
              "\n",
              "<style>\n",
              "  .colab-df-quickchart {\n",
              "      --bg-color: #E8F0FE;\n",
              "      --fill-color: #1967D2;\n",
              "      --hover-bg-color: #E2EBFA;\n",
              "      --hover-fill-color: #174EA6;\n",
              "      --disabled-fill-color: #AAA;\n",
              "      --disabled-bg-color: #DDD;\n",
              "  }\n",
              "\n",
              "  [theme=dark] .colab-df-quickchart {\n",
              "      --bg-color: #3B4455;\n",
              "      --fill-color: #D2E3FC;\n",
              "      --hover-bg-color: #434B5C;\n",
              "      --hover-fill-color: #FFFFFF;\n",
              "      --disabled-bg-color: #3B4455;\n",
              "      --disabled-fill-color: #666;\n",
              "  }\n",
              "\n",
              "  .colab-df-quickchart {\n",
              "    background-color: var(--bg-color);\n",
              "    border: none;\n",
              "    border-radius: 50%;\n",
              "    cursor: pointer;\n",
              "    display: none;\n",
              "    fill: var(--fill-color);\n",
              "    height: 32px;\n",
              "    padding: 0;\n",
              "    width: 32px;\n",
              "  }\n",
              "\n",
              "  .colab-df-quickchart:hover {\n",
              "    background-color: var(--hover-bg-color);\n",
              "    box-shadow: 0 1px 2px rgba(60, 64, 67, 0.3), 0 1px 3px 1px rgba(60, 64, 67, 0.15);\n",
              "    fill: var(--button-hover-fill-color);\n",
              "  }\n",
              "\n",
              "  .colab-df-quickchart-complete:disabled,\n",
              "  .colab-df-quickchart-complete:disabled:hover {\n",
              "    background-color: var(--disabled-bg-color);\n",
              "    fill: var(--disabled-fill-color);\n",
              "    box-shadow: none;\n",
              "  }\n",
              "\n",
              "  .colab-df-spinner {\n",
              "    border: 2px solid var(--fill-color);\n",
              "    border-color: transparent;\n",
              "    border-bottom-color: var(--fill-color);\n",
              "    animation:\n",
              "      spin 1s steps(1) infinite;\n",
              "  }\n",
              "\n",
              "  @keyframes spin {\n",
              "    0% {\n",
              "      border-color: transparent;\n",
              "      border-bottom-color: var(--fill-color);\n",
              "      border-left-color: var(--fill-color);\n",
              "    }\n",
              "    20% {\n",
              "      border-color: transparent;\n",
              "      border-left-color: var(--fill-color);\n",
              "      border-top-color: var(--fill-color);\n",
              "    }\n",
              "    30% {\n",
              "      border-color: transparent;\n",
              "      border-left-color: var(--fill-color);\n",
              "      border-top-color: var(--fill-color);\n",
              "      border-right-color: var(--fill-color);\n",
              "    }\n",
              "    40% {\n",
              "      border-color: transparent;\n",
              "      border-right-color: var(--fill-color);\n",
              "      border-top-color: var(--fill-color);\n",
              "    }\n",
              "    60% {\n",
              "      border-color: transparent;\n",
              "      border-right-color: var(--fill-color);\n",
              "    }\n",
              "    80% {\n",
              "      border-color: transparent;\n",
              "      border-right-color: var(--fill-color);\n",
              "      border-bottom-color: var(--fill-color);\n",
              "    }\n",
              "    90% {\n",
              "      border-color: transparent;\n",
              "      border-bottom-color: var(--fill-color);\n",
              "    }\n",
              "  }\n",
              "</style>\n",
              "\n",
              "  <script>\n",
              "    async function quickchart(key) {\n",
              "      const quickchartButtonEl =\n",
              "        document.querySelector('#' + key + ' button');\n",
              "      quickchartButtonEl.disabled = true;  // To prevent multiple clicks.\n",
              "      quickchartButtonEl.classList.add('colab-df-spinner');\n",
              "      try {\n",
              "        const charts = await google.colab.kernel.invokeFunction(\n",
              "            'suggestCharts', [key], {});\n",
              "      } catch (error) {\n",
              "        console.error('Error during call to suggestCharts:', error);\n",
              "      }\n",
              "      quickchartButtonEl.classList.remove('colab-df-spinner');\n",
              "      quickchartButtonEl.classList.add('colab-df-quickchart-complete');\n",
              "    }\n",
              "    (() => {\n",
              "      let quickchartButtonEl =\n",
              "        document.querySelector('#df-3b05e4b5-9bc1-48fe-8191-c7428e1496b7 button');\n",
              "      quickchartButtonEl.style.display =\n",
              "        google.colab.kernel.accessAllowed ? 'block' : 'none';\n",
              "    })();\n",
              "  </script>\n",
              "</div>\n",
              "    </div>\n",
              "  </div>\n"
            ]
          },
          "metadata": {},
          "execution_count": 2
        }
      ],
      "source": [
        "### Write your code below this comment.\n",
        "import pandas as pd\n",
        "import numpy as np\n",
        "\n",
        "file_path = '/content/thanksgiving.csv'\n",
        "df = pd.read_csv(file_path, encoding='latin')\n",
        "\n",
        "df.head()\n"
      ]
    },
    {
      "cell_type": "markdown",
      "metadata": {
        "id": "aewujWe1xi6C"
      },
      "source": [
        "### Can you report the number of rows and columns in this dataset?"
      ]
    },
    {
      "cell_type": "code",
      "execution_count": 3,
      "metadata": {
        "colab": {
          "base_uri": "https://localhost:8080/"
        },
        "id": "XJlUXUWpxi6C",
        "outputId": "baf566f2-79e6-47c4-a2d0-1c01a770a903"
      },
      "outputs": [
        {
          "output_type": "stream",
          "name": "stdout",
          "text": [
            "Number of rows: 1058\n",
            "Number of columns: 65\n"
          ]
        }
      ],
      "source": [
        "### Write your code below this comment.\n",
        "num_rows, num_columns = df.shape\n",
        "print(f\"Number of rows: {num_rows}\")\n",
        "print(f\"Number of columns: {num_columns}\")\n"
      ]
    },
    {
      "cell_type": "markdown",
      "metadata": {
        "id": "Lir7Qvrwxi6C"
      },
      "source": [
        "### Can you access the column labeled `Do you celebrate Thanksgiving?` both as a Series and Dataframe?"
      ]
    },
    {
      "cell_type": "code",
      "execution_count": 4,
      "metadata": {
        "colab": {
          "base_uri": "https://localhost:8080/"
        },
        "id": "2aer6jEkxi6C",
        "outputId": "193e6877-94ed-42b1-befd-006800e3ced4"
      },
      "outputs": [
        {
          "output_type": "stream",
          "name": "stdout",
          "text": [
            "Series:\n",
            "0    Yes\n",
            "1    Yes\n",
            "2    Yes\n",
            "3    Yes\n",
            "4    Yes\n",
            "Name: Do you celebrate Thanksgiving?, dtype: object\n",
            "\n",
            "DataFrame:\n",
            "  Do you celebrate Thanksgiving?\n",
            "0                            Yes\n",
            "1                            Yes\n",
            "2                            Yes\n",
            "3                            Yes\n",
            "4                            Yes\n"
          ]
        }
      ],
      "source": [
        "### Write your code below this comment.\n",
        "#series\n",
        "cel_series = df['Do you celebrate Thanksgiving?']\n",
        "print(\"Series:\")\n",
        "print(cel_series.head())\n",
        "\n",
        "#DF\n",
        "cel_df = df[['Do you celebrate Thanksgiving?']]\n",
        "print(\"\\nDataFrame:\")\n",
        "print(cel_df.head())\n"
      ]
    },
    {
      "cell_type": "markdown",
      "metadata": {
        "id": "VW0OMJeAxi6C"
      },
      "source": [
        "### Can you report how many people responded 'Yes' and 'No' to the question 'Do you celebrate Thanksgiving?'"
      ]
    },
    {
      "cell_type": "code",
      "execution_count": 5,
      "metadata": {
        "colab": {
          "base_uri": "https://localhost:8080/"
        },
        "id": "Iw4L_PJexi6D",
        "outputId": "8011e756-2a11-4d9f-fe60-2676803e20ad"
      },
      "outputs": [
        {
          "output_type": "stream",
          "name": "stdout",
          "text": [
            "Counts of responses:\n",
            "Yes    980\n",
            "No      78\n",
            "Name: Do you celebrate Thanksgiving?, dtype: int64\n"
          ]
        }
      ],
      "source": [
        "### Write your code below this comment.\n",
        "cel_counts = df['Do you celebrate Thanksgiving?'].value_counts()\n",
        "\n",
        "print(\"Counts of responses:\")\n",
        "print(cel_counts)\n"
      ]
    },
    {
      "cell_type": "markdown",
      "metadata": {
        "id": "UvCJqT70xi6D"
      },
      "source": [
        "### Can you plot a bar chart of the proportion (percentage) of people who responded 'Yes' and 'No' to the question 'Do you celebrate Thanksgiving?'\n",
        "<u>Note:</u> For this, you would need to neglect people who opted not to respond to this question."
      ]
    },
    {
      "cell_type": "code",
      "execution_count": 6,
      "metadata": {
        "colab": {
          "base_uri": "https://localhost:8080/",
          "height": 472
        },
        "id": "Un-K3EVwxi6D",
        "outputId": "d6effe51-56a0-4a72-d723-54cef0d0c5e5"
      },
      "outputs": [
        {
          "output_type": "display_data",
          "data": {
            "text/plain": [
              "<Figure size 640x480 with 1 Axes>"
            ],
            "image/png": "[encoded data removed]"
          },
          "metadata": {}
        }
      ],
      "source": [
        "### Write your code below this comment.\n",
        "import matplotlib.pyplot as plt\n",
        "\n",
        "prop = cel_counts / len(df) * 100\n",
        "\n",
        "plt.bar(prop.index, prop, color=['blue', 'orange'])\n",
        "plt.xlabel('Response')\n",
        "plt.ylabel('Percentage')\n",
        "plt.title('Proportion (percentage) of People Yes vs No')\n",
        "\n",
        "plt.show()\n"
      ]
    },
    {
      "cell_type": "markdown",
      "metadata": {
        "id": "1BAd3I11xi6D"
      },
      "source": [
        "### Can you report the counts of each of the different responses to the question 'What is typically the main dish at your Thanksgiving dinner?'"
      ]
    },
    {
      "cell_type": "code",
      "execution_count": 7,
      "metadata": {
        "colab": {
          "base_uri": "https://localhost:8080/"
        },
        "id": "bZS8X9Zlxi6D",
        "outputId": "a3e3469d-ca41-40fe-b9ed-e4c6e3e5e056"
      },
      "outputs": [
        {
          "output_type": "stream",
          "name": "stdout",
          "text": [
            "Counts of main dishes:\n",
            "Turkey                    859\n",
            "Other (please specify)     35\n",
            "Ham/Pork                   29\n",
            "Tofurkey                   20\n",
            "Chicken                    12\n",
            "Roast beef                 11\n",
            "I don't know                5\n",
            "Turducken                   3\n",
            "Name: What is typically the main dish at your Thanksgiving dinner?, dtype: int64\n"
          ]
        }
      ],
      "source": [
        "### Write your code below this comment.\n",
        "main_counts = df['What is typically the main dish at your Thanksgiving dinner?'].value_counts()\n",
        "\n",
        "print(\"Counts of main dishes:\")\n",
        "print(main_counts)\n"
      ]
    },
    {
      "cell_type": "markdown",
      "metadata": {
        "id": "EvDo3T72xi6D"
      },
      "source": [
        "### Can you plot a bar chart of the proportion (percentage) of each of the different responses to the question 'What is typically the main dish at your Thanksgiving dinner?'\n",
        "<u>Note:</u> For this as well, you would need to neglect people who opted not to respond to this question."
      ]
    },
    {
      "cell_type": "code",
      "execution_count": 8,
      "metadata": {
        "colab": {
          "base_uri": "https://localhost:8080/",
          "height": 576
        },
        "id": "LHw4oHW0xi6D",
        "outputId": "426b6fc4-3cd6-4cc0-f8fd-4d3952829a50"
      },
      "outputs": [
        {
          "output_type": "display_data",
          "data": {
            "text/plain": [
              "<Figure size 640x480 with 1 Axes>"
            ],
            "image/png": "[encoded data removed]"
          },
          "metadata": {}
        }
      ],
      "source": [
        "### Write your code below this comment.\n",
        "\n",
        "\n",
        "\n",
        "prop_2 = main_counts / len(df) * 100\n",
        "\n",
        "plt.bar(prop_2.index, prop_2, color=['skyblue', 'lightgreen', 'lightcoral', 'gold', 'lightpink', 'lightblue'])\n",
        "plt.xlabel('Main Dish')\n",
        "plt.ylabel('Percentage')\n",
        "plt.title('Proportion of Different Main Dishes at Thanksgiving Dinner')\n",
        "plt.xticks(rotation=45, ha='right')\n",
        "\n",
        "plt.show()\n"
      ]
    },
    {
      "cell_type": "markdown",
      "metadata": {
        "id": "LJMak8nhxi6D"
      },
      "source": [
        "### Can you get the list of all columns this dataset has?\n",
        "<u>Note:</u> This is because we can see that not all columns are visible from the displayed dataframe."
      ]
    },
    {
      "cell_type": "code",
      "execution_count": 9,
      "metadata": {
        "colab": {
          "base_uri": "https://localhost:8080/"
        },
        "id": "9bp3ls1Hxi6D",
        "outputId": "f7f09d16-cd3d-4ee7-9d24-b1ff548bd3ec"
      },
      "outputs": [
        {
          "output_type": "stream",
          "name": "stdout",
          "text": [
            "List of all columns: ['RespondentID', 'Do you celebrate Thanksgiving?', 'What is typically the main dish at your Thanksgiving dinner?', 'What is typically the main dish at your Thanksgiving dinner? - Other (please specify)', 'How is the main dish typically cooked?', 'How is the main dish typically cooked? - Other (please specify)', 'What kind of stuffing/dressing do you typically have?', 'What kind of stuffing/dressing do you typically have? - Other (please specify)', 'What type of cranberry saucedo you typically have?', 'What type of cranberry saucedo you typically have? - Other (please specify)', 'Do you typically have gravy?', 'Which of these side dishes aretypically served at your Thanksgiving dinner? Please select all that apply. - Brussel sprouts', 'Which of these side dishes aretypically served at your Thanksgiving dinner? Please select all that apply. - Carrots', 'Which of these side dishes aretypically served at your Thanksgiving dinner? Please select all that apply. - Cauliflower', 'Which of these side dishes aretypically served at your Thanksgiving dinner? Please select all that apply. - Corn', 'Which of these side dishes aretypically served at your Thanksgiving dinner? Please select all that apply. - Cornbread', 'Which of these side dishes aretypically served at your Thanksgiving dinner? Please select all that apply. - Fruit salad', 'Which of these side dishes aretypically served at your Thanksgiving dinner? Please select all that apply. - Green beans/green bean casserole', 'Which of these side dishes aretypically served at your Thanksgiving dinner? Please select all that apply. - Macaroni and cheese', 'Which of these side dishes aretypically served at your Thanksgiving dinner? Please select all that apply. - Mashed potatoes', 'Which of these side dishes aretypically served at your Thanksgiving dinner? Please select all that apply. - Rolls/biscuits', 'Which of these side dishes aretypically served at your Thanksgiving dinner? Please select all that apply. - Squash', 'Which of these side dishes aretypically served at your Thanksgiving dinner? Please select all that apply. - Vegetable salad', 'Which of these side dishes aretypically served at your Thanksgiving dinner? Please select all that apply. - Yams/sweet potato casserole', 'Which of these side dishes aretypically served at your Thanksgiving dinner? Please select all that apply. - Other (please specify)', 'Which of these side dishes aretypically served at your Thanksgiving dinner? Please select all that apply. - Other (please specify).1', 'Which type of pie is typically served at your Thanksgiving dinner? Please select all that apply. - Apple', 'Which type of pie is typically served at your Thanksgiving dinner? Please select all that apply. - Buttermilk', 'Which type of pie is typically served at your Thanksgiving dinner? Please select all that apply. - Cherry', 'Which type of pie is typically served at your Thanksgiving dinner? Please select all that apply. - Chocolate', 'Which type of pie is typically served at your Thanksgiving dinner? Please select all that apply. - Coconut cream', 'Which type of pie is typically served at your Thanksgiving dinner? Please select all that apply. - Key lime', 'Which type of pie is typically served at your Thanksgiving dinner? Please select all that apply. - Peach', 'Which type of pie is typically served at your Thanksgiving dinner? Please select all that apply. - Pecan', 'Which type of pie is typically served at your Thanksgiving dinner? Please select all that apply. - Pumpkin', 'Which type of pie is typically served at your Thanksgiving dinner? Please select all that apply. - Sweet Potato', 'Which type of pie is typically served at your Thanksgiving dinner? Please select all that apply. - None', 'Which type of pie is typically served at your Thanksgiving dinner? Please select all that apply. - Other (please specify)', 'Which type of pie is typically served at your Thanksgiving dinner? Please select all that apply. - Other (please specify).1', 'Which of these desserts do you typically have at Thanksgiving dinner? Please select all that apply.   - Apple cobbler', 'Which of these desserts do you typically have at Thanksgiving dinner? Please select all that apply.   - Blondies', 'Which of these desserts do you typically have at Thanksgiving dinner? Please select all that apply.   - Brownies', 'Which of these desserts do you typically have at Thanksgiving dinner? Please select all that apply.   - Carrot cake', 'Which of these desserts do you typically have at Thanksgiving dinner? Please select all that apply.   - Cheesecake', 'Which of these desserts do you typically have at Thanksgiving dinner? Please select all that apply.   - Cookies', 'Which of these desserts do you typically have at Thanksgiving dinner? Please select all that apply.   - Fudge', 'Which of these desserts do you typically have at Thanksgiving dinner? Please select all that apply.   - Ice cream', 'Which of these desserts do you typically have at Thanksgiving dinner? Please select all that apply.   - Peach cobbler', 'Which of these desserts do you typically have at Thanksgiving dinner? Please select all that apply.   - None', 'Which of these desserts do you typically have at Thanksgiving dinner? Please select all that apply.   - Other (please specify)', 'Which of these desserts do you typically have at Thanksgiving dinner? Please select all that apply.   - Other (please specify).1', 'Do you typically pray before or after the Thanksgiving meal?', 'How far will you travel for Thanksgiving?', \"Will you watch any of the following programs on Thanksgiving? Please select all that apply. - Macy's Parade\", 'What\\'s the age cutoff at your \"kids\\' table\" at Thanksgiving?', 'Have you ever tried to meet up with hometown friends on Thanksgiving night?', 'Have you ever attended a \"Friendsgiving?\"', 'Will you shop any Black Friday sales on Thanksgiving Day?', 'Do you work in retail?', 'Will you employer make you work on Black Friday?', 'How would you describe where you live?', 'Age', 'What is your gender?', 'How much total combined money did all members of your HOUSEHOLD earn last year?', 'US Region']\n"
          ]
        }
      ],
      "source": [
        "### Write your code below this comment.\n",
        "col_df = df.columns.tolist()\n",
        "\n",
        "print(f\"List of all columns: {col_df}\")"
      ]
    },
    {
      "cell_type": "markdown",
      "metadata": {
        "id": "u_ANU5qSxi6D"
      },
      "source": [
        "### Can you get the integer indices of the the following columns programmatically (i.e. without manually counting the index of the column)?\n",
        "<u>Note:</u> I want you to do this as I would like you to access these columns more succintly (using just their integer indices instead of labels) going forward into the assignment."
      ]
    },
    {
      "cell_type": "markdown",
      "metadata": {
        "scrolled": false,
        "id": "gTO4Ihmaxi6E"
      },
      "source": [
        "```Do you typically have gravy?```\n",
        "\n",
        "```Which type of pie is typically served at your Thanksgiving dinner? Please select all that apply. - Apple```\n",
        "\n",
        "```Which type of pie is typically served at your Thanksgiving dinner? Please select all that apply. - Pecan```\n",
        "\n",
        "```Which type of pie is typically served at your Thanksgiving dinner? Please select all that apply. - Pumpkin```\n",
        "\n",
        "```How far will you travel for Thanksgiving?```\n",
        "\n",
        "```Have you ever tried to meet up with hometown friends on Thanksgiving night?```\n",
        "\n",
        "```Have you ever attended a \"Friendsgiving?```\n",
        "\n",
        "```How much total combined money did all members of your HOUSEHOLD earn last year?```"
      ]
    },
    {
      "cell_type": "code",
      "execution_count": 10,
      "metadata": {
        "colab": {
          "base_uri": "https://localhost:8080/"
        },
        "id": "Edn4zF7Ixi6E",
        "outputId": "cb98c487-2cc9-42d1-f56a-07fc8ca7ecc4"
      },
      "outputs": [
        {
          "output_type": "stream",
          "name": "stdout",
          "text": [
            "Integer indices of specified columns:\n",
            "Gravy: 10\n",
            "Pie - Apple: 26\n",
            "Pie - Pecan: 33\n",
            "Pie - Pumpkin: 34\n",
            "Travel Distance: 52\n",
            "Meetup with Hometown Friends: 55\n",
            "Friendsgiving: 56\n",
            "Household Income: 63\n"
          ]
        }
      ],
      "source": [
        "### Write your code below this comment.\n",
        "loc_gravy = df.columns.get_loc(\"Do you typically have gravy?\")\n",
        "loc_pie_apple = df.columns.get_loc(\"Which type of pie is typically served at your Thanksgiving dinner? Please select all that apply. - Apple\")\n",
        "loc_pie_pecan = df.columns.get_loc(\"Which type of pie is typically served at your Thanksgiving dinner? Please select all that apply. - Pecan\")\n",
        "loc_pie_pumpkin = df.columns.get_loc(\"Which type of pie is typically served at your Thanksgiving dinner? Please select all that apply. - Pumpkin\")\n",
        "loc_travel_distance = df.columns.get_loc(\"How far will you travel for Thanksgiving?\")\n",
        "loc_meetup_friends = df.columns.get_loc(\"Have you ever tried to meet up with hometown friends on Thanksgiving night?\")\n",
        "loc_friendsgiving = df.columns.get_loc('Have you ever attended a \"Friendsgiving?\"')\n",
        "loc_household_income = df.columns.get_loc(\"How much total combined money did all members of your HOUSEHOLD earn last year?\")\n",
        "\n",
        "print(\"Integer indices of specified columns:\")\n",
        "print(\"Gravy:\", loc_gravy)\n",
        "print(\"Pie - Apple:\", loc_pie_apple)\n",
        "print(\"Pie - Pecan:\", loc_pie_pecan)\n",
        "print(\"Pie - Pumpkin:\", loc_pie_pumpkin)\n",
        "print(\"Travel Distance:\", loc_travel_distance)\n",
        "print(\"Meetup with Hometown Friends:\", loc_meetup_friends)\n",
        "print(\"Friendsgiving:\", loc_friendsgiving)\n",
        "print(\"Household Income:\", loc_household_income)\n"
      ]
    },
    {
      "cell_type": "markdown",
      "metadata": {
        "id": "r3KXtf06xi6E"
      },
      "source": [
        "### Can you report the total number of people who typically have gravy and the main dish at their Thanksgiving dinner was Tofurkey?"
      ]
    },
    {
      "cell_type": "code",
      "execution_count": 11,
      "metadata": {
        "colab": {
          "base_uri": "https://localhost:8080/"
        },
        "id": "E3Or276yxi6E",
        "outputId": "659d22a0-2d51-4a3a-c033-e549c5e43f2d"
      },
      "outputs": [
        {
          "output_type": "stream",
          "name": "stdout",
          "text": [
            "Total number of people who typically have gravy and the main dish is Tofurkey: 12\n"
          ]
        }
      ],
      "source": [
        "### Write your code below this comment.\n",
        "total_people = len(df[(df['Do you typically have gravy?'] == 'Yes') & (df['What is typically the main dish at your Thanksgiving dinner?'] == 'Tofurkey')])\n",
        "\n",
        "print(f\"Total number of people who typically have gravy and the main dish is Tofurkey: {total_people}\")\n"
      ]
    },
    {
      "cell_type": "markdown",
      "metadata": {
        "id": "k6XDdWpFxi6E"
      },
      "source": [
        "### Can you report the total number of people who typically have all three types of pie served at their Thanksgiving dinner?"
      ]
    },
    {
      "cell_type": "code",
      "execution_count": 12,
      "metadata": {
        "colab": {
          "base_uri": "https://localhost:8080/"
        },
        "id": "NRy2EC_Qxi6E",
        "outputId": "62ce0ea9-b5a0-4dd2-d4b2-a183ce97262f"
      },
      "outputs": [
        {
          "output_type": "stream",
          "name": "stdout",
          "text": [
            "Total number of people who typically have all three types of pie: 1058\n"
          ]
        }
      ],
      "source": [
        "### Write your code below this comment.\n",
        "# Filter the DataFrame based on the conditions\n",
        "total_people_2 = len((\n",
        "    (df[\"Which type of pie is typically served at your Thanksgiving dinner? Please select all that apply. - Apple\"] == 'Yes') &\n",
        "    (df[\"Which type of pie is typically served at your Thanksgiving dinner? Please select all that apply. - Pecan\"] == 'Yes') &\n",
        "    (df[\"Which type of pie is typically served at your Thanksgiving dinner? Please select all that apply. - Pumpkin\"] == 'Yes')\n",
        "))\n",
        "\n",
        "print(f\"Total number of people who typically have all three types of pie: {total_people_2}\")\n"
      ]
    },
    {
      "cell_type": "markdown",
      "metadata": {
        "id": "GZO7XaYuxi6E"
      },
      "source": [
        "### Can you report the total number of people who didn't check any of the options (Apple, Pecan, or Pumpkin) in response to the question \"Which type of pie is typically served at your Thanksgiving dinner\"?"
      ]
    },
    {
      "cell_type": "code",
      "execution_count": 13,
      "metadata": {
        "colab": {
          "base_uri": "https://localhost:8080/"
        },
        "id": "_R3cdbSfxi6E",
        "outputId": "0cdf42bd-f6b3-473d-cfb5-a95371b2e713"
      },
      "outputs": [
        {
          "output_type": "stream",
          "name": "stdout",
          "text": [
            "Total number of people who didn't check any of the options are: 182\n"
          ]
        }
      ],
      "source": [
        "### Write your code below this comment.\n",
        "total_people_2 =df[~(\n",
        "    (df[\"Which type of pie is typically served at your Thanksgiving dinner? Please select all that apply. - Apple\"] == 'Apple') |\n",
        "    (df[\"Which type of pie is typically served at your Thanksgiving dinner? Please select all that apply. - Pecan\"] == 'Pecan') |\n",
        "    (df[\"Which type of pie is typically served at your Thanksgiving dinner? Please select all that apply. - Pumpkin\"] == 'Pumpkin')\n",
        ")]\n",
        "\n",
        "print(f\"Total number of people who didn't check any of the options are: {len(total_people_2)}\")\n",
        "\n",
        "\n"
      ]
    },
    {
      "cell_type": "markdown",
      "metadata": {
        "id": "NGJjOubyxi6E"
      },
      "source": [
        "### Can you report the number of people in each of the four different age groups?"
      ]
    },
    {
      "cell_type": "code",
      "execution_count": 14,
      "metadata": {
        "colab": {
          "base_uri": "https://localhost:8080/"
        },
        "id": "f3N-qonKxi6E",
        "outputId": "63bd4e13-a4cc-4035-b758-6fb6ef65f08d"
      },
      "outputs": [
        {
          "output_type": "stream",
          "name": "stdout",
          "text": [
            "Number of people in each age group: 45 - 59    286\n",
            "60+        264\n",
            "30 - 44    259\n",
            "18 - 29    216\n",
            "Name: Age, dtype: int64\n"
          ]
        }
      ],
      "source": [
        "### Write your code below this comment.\n",
        "age_counts = df['Age'].value_counts()\n",
        "\n",
        "print(f\"Number of people in each age group: {age_counts}\")"
      ]
    },
    {
      "cell_type": "markdown",
      "metadata": {
        "id": "AKXxY_GAxi6E"
      },
      "source": [
        "### Can you write a small function to extract the numerical age for each person from the categorical variable \"Age\"? Create a new column \"int_age\" that contains the numerical data.\n",
        "<u>Note:</u> To keep things simple, assume that the numerical age of each person is the lower bound of the age group. For example, the numerical age for a person in the group 45 - 59 would be 45. However, for the last 60+ group, the age would be 60."
      ]
    },
    {
      "cell_type": "code",
      "execution_count": 15,
      "metadata": {
        "colab": {
          "base_uri": "https://localhost:8080/"
        },
        "id": "BFJm8m2gxi6E",
        "outputId": "fa3e4265-209e-4643-c9e6-befbddc1f1c3"
      },
      "outputs": [
        {
          "output_type": "stream",
          "name": "stdout",
          "text": [
            "          Age  int_age\n",
            "1053  30 - 44       30\n",
            "1054      60+       60\n",
            "1055      60+       60\n",
            "1056      NaN     <NA>\n",
            "1057      NaN     <NA>\n"
          ]
        }
      ],
      "source": [
        "### Write your code below this comment.\n",
        "def age_fun(age_group):\n",
        "    if pd.isna(age_group):\n",
        "        return None\n",
        "\n",
        "    age_bounds = age_group.split('-')\n",
        "    lower_bound = int(age_bounds[0]) if age_bounds[0] != '60+' else 60\n",
        "    return lower_bound\n",
        "\n",
        "df['int_age'] = df['Age'].apply(age_fun)\n",
        "df['int_age'] = df['int_age'].astype('Int64')\n",
        "\n",
        "print(df[['Age', 'int_age']].tail())\n"
      ]
    },
    {
      "cell_type": "markdown",
      "metadata": {
        "id": "0oBiXY54xi6E"
      },
      "source": [
        "### Can you report the most frequent income bracket in response to the question \"How much total combined money did all members of your HOUSEHOLD earn last year\"?"
      ]
    },
    {
      "cell_type": "code",
      "execution_count": 16,
      "metadata": {
        "colab": {
          "base_uri": "https://localhost:8080/"
        },
        "id": "yBy7dT_7xi6E",
        "outputId": "ae705962-67b6-4a80-88d5-782b58b5a42d"
      },
      "outputs": [
        {
          "output_type": "stream",
          "name": "stdout",
          "text": [
            "Most frequent income bracket: $25,000 to $49,999\n"
          ]
        }
      ],
      "source": [
        "### Write your code below this comment.\n",
        "income_counts = df['How much total combined money did all members of your HOUSEHOLD earn last year?'].value_counts()\n",
        "most_frequent_income = income_counts.idxmax()\n",
        "\n",
        "print(f\"Most frequent income bracket: {most_frequent_income}\")\n"
      ]
    },
    {
      "cell_type": "markdown",
      "metadata": {
        "id": "uIEyx-C6xi6E"
      },
      "source": [
        "### Can you write a small function to extract the numerical income for each person from the categorical variable \"How much total combined money did all members of your HOUSEHOLD earn last year\"? Create a new column \"int_income\" that contains the numerical data.\n",
        "<u>Note:</u> To keep things simple, assume that the numerical income of each person is the lower bound of the income group. For example, the numerical income for a person in the group \"75,000 to 99,999\" would be 75000."
      ]
    },
    {
      "cell_type": "code",
      "execution_count": 17,
      "metadata": {
        "colab": {
          "base_uri": "https://localhost:8080/"
        },
        "id": "wsFmuov2xi6F",
        "outputId": "becf4c29-8c2a-4e13-f374-a47a87527555"
      },
      "outputs": [
        {
          "output_type": "stream",
          "name": "stdout",
          "text": [
            "  How much total combined money did all members of your HOUSEHOLD earn last year?  \\\n",
            "0                                 $75,000 to $99,999                                \n",
            "1                                 $50,000 to $74,999                                \n",
            "2                                       $0 to $9,999                                \n",
            "3                                    $200,000 and up                                \n",
            "4                               $100,000 to $124,999                                \n",
            "\n",
            "   int_income  \n",
            "0       75000  \n",
            "1       50000  \n",
            "2           0  \n",
            "3      200000  \n",
            "4      100000  \n"
          ]
        }
      ],
      "source": [
        "def extract_numerical_income(income_group):\n",
        "    try:\n",
        "        return int(income_group.replace('$', '').replace(',', '').split(' ')[0])\n",
        "    except (ValueError, AttributeError):\n",
        "        return None\n",
        "\n",
        "\n",
        "df['int_income'] = df['How much total combined money did all members of your HOUSEHOLD earn last year?'].apply(extract_numerical_income)\n",
        "df['int_income'] = df['int_income'].astype('Int64')  # 'Int64' allows for NaN values\n",
        "\n",
        "print(df[['How much total combined money did all members of your HOUSEHOLD earn last year?', 'int_income']].head())\n"
      ]
    },
    {
      "cell_type": "markdown",
      "metadata": {
        "id": "dicLTDtQxi6F"
      },
      "source": [
        "### Now display the first five rows of your dataset."
      ]
    },
    {
      "cell_type": "code",
      "execution_count": 18,
      "metadata": {
        "colab": {
          "base_uri": "https://localhost:8080/",
          "height": 516
        },
        "id": "3hWWVgPJxi6F",
        "outputId": "653892ac-e795-4091-c601-33a6c864707b"
      },
      "outputs": [
        {
          "output_type": "execute_result",
          "data": {
            "text/plain": [
              "   RespondentID Do you celebrate Thanksgiving?  \\\n",
              "0    4337954960                            Yes   \n",
              "1    4337951949                            Yes   \n",
              "2    4337935621                            Yes   \n",
              "3    4337933040                            Yes   \n",
              "4    4337931983                            Yes   \n",
              "\n",
              "  What is typically the main dish at your Thanksgiving dinner?  \\\n",
              "0                                             Turkey             \n",
              "1                                             Turkey             \n",
              "2                                             Turkey             \n",
              "3                                             Turkey             \n",
              "4                                           Tofurkey             \n",
              "\n",
              "  What is typically the main dish at your Thanksgiving dinner? - Other (please specify)  \\\n",
              "0                                                NaN                                      \n",
              "1                                                NaN                                      \n",
              "2                                                NaN                                      \n",
              "3                                                NaN                                      \n",
              "4                                                NaN                                      \n",
              "\n",
              "  How is the main dish typically cooked?  \\\n",
              "0                                  Baked   \n",
              "1                                  Baked   \n",
              "2                                Roasted   \n",
              "3                                  Baked   \n",
              "4                                  Baked   \n",
              "\n",
              "  How is the main dish typically cooked? - Other (please specify)  \\\n",
              "0                                                NaN                \n",
              "1                                                NaN                \n",
              "2                                                NaN                \n",
              "3                                                NaN                \n",
              "4                                                NaN                \n",
              "\n",
              "  What kind of stuffing/dressing do you typically have?  \\\n",
              "0                                        Bread-based      \n",
              "1                                        Bread-based      \n",
              "2                                         Rice-based      \n",
              "3                                        Bread-based      \n",
              "4                                        Bread-based      \n",
              "\n",
              "  What kind of stuffing/dressing do you typically have? - Other (please specify)  \\\n",
              "0                                                NaN                               \n",
              "1                                                NaN                               \n",
              "2                                                NaN                               \n",
              "3                                                NaN                               \n",
              "4                                                NaN                               \n",
              "\n",
              "  What type of cranberry saucedo you typically have?  \\\n",
              "0                                               None   \n",
              "1                             Other (please specify)   \n",
              "2                                           Homemade   \n",
              "3                                           Homemade   \n",
              "4                                             Canned   \n",
              "\n",
              "  What type of cranberry saucedo you typically have? - Other (please specify)  \\\n",
              "0                                                NaN                            \n",
              "1                    Homemade cranberry gelatin ring                            \n",
              "2                                                NaN                            \n",
              "3                                                NaN                            \n",
              "4                                                NaN                            \n",
              "\n",
              "   ... Will you shop any Black Friday sales on Thanksgiving Day?  \\\n",
              "0  ...                                                 No          \n",
              "1  ...                                                Yes          \n",
              "2  ...                                                Yes          \n",
              "3  ...                                                 No          \n",
              "4  ...                                                 No          \n",
              "\n",
              "  Do you work in retail? Will you employer make you work on Black Friday?  \\\n",
              "0                     No                                              NaN   \n",
              "1                     No                                              NaN   \n",
              "2                     No                                              NaN   \n",
              "3                     No                                              NaN   \n",
              "4                     No                                              NaN   \n",
              "\n",
              "  How would you describe where you live?      Age What is your gender?  \\\n",
              "0                               Suburban  18 - 29                 Male   \n",
              "1                                  Rural  18 - 29               Female   \n",
              "2                               Suburban  18 - 29                 Male   \n",
              "3                                  Urban  30 - 44                 Male   \n",
              "4                                  Urban  30 - 44                 Male   \n",
              "\n",
              "  How much total combined money did all members of your HOUSEHOLD earn last year?  \\\n",
              "0                                 $75,000 to $99,999                                \n",
              "1                                 $50,000 to $74,999                                \n",
              "2                                       $0 to $9,999                                \n",
              "3                                    $200,000 and up                                \n",
              "4                               $100,000 to $124,999                                \n",
              "\n",
              "            US Region int_age int_income  \n",
              "0     Middle Atlantic      18      75000  \n",
              "1  East South Central      18      50000  \n",
              "2            Mountain      18          0  \n",
              "3             Pacific      30     200000  \n",
              "4             Pacific      30     100000  \n",
              "\n",
              "[5 rows x 67 columns]"
            ],
            "text/html": [
              "\n",
              "  <div id=\"df-4478e030-5148-493f-82dd-73836a2b9ca3\" class=\"colab-df-container\">\n",
              "    <div>\n",
              "<style scoped>\n",
              "    .dataframe tbody tr th:only-of-type {\n",
              "        vertical-align: middle;\n",
              "    }\n",
              "\n",
              "    .dataframe tbody tr th {\n",
              "        vertical-align: top;\n",
              "    }\n",
              "\n",
              "    .dataframe thead th {\n",
              "        text-align: right;\n",
              "    }\n",
              "</style>\n",
              "<table border=\"1\" class=\"dataframe\">\n",
              "  <thead>\n",
              "    <tr style=\"text-align: right;\">\n",
              "      <th></th>\n",
              "      <th>RespondentID</th>\n",
              "      <th>Do you celebrate Thanksgiving?</th>\n",
              "      <th>What is typically the main dish at your Thanksgiving dinner?</th>\n",
              "      <th>What is typically the main dish at your Thanksgiving dinner? - Other (please specify)</th>\n",
              "      <th>How is the main dish typically cooked?</th>\n",
              "      <th>How is the main dish typically cooked? - Other (please specify)</th>\n",
              "      <th>What kind of stuffing/dressing do you typically have?</th>\n",
              "      <th>What kind of stuffing/dressing do you typically have? - Other (please specify)</th>\n",
              "      <th>What type of cranberry saucedo you typically have?</th>\n",
              "      <th>What type of cranberry saucedo you typically have? - Other (please specify)</th>\n",
              "      <th>...</th>\n",
              "      <th>Will you shop any Black Friday sales on Thanksgiving Day?</th>\n",
              "      <th>Do you work in retail?</th>\n",
              "      <th>Will you employer make you work on Black Friday?</th>\n",
              "      <th>How would you describe where you live?</th>\n",
              "      <th>Age</th>\n",
              "      <th>What is your gender?</th>\n",
              "      <th>How much total combined money did all members of your HOUSEHOLD earn last year?</th>\n",
              "      <th>US Region</th>\n",
              "      <th>int_age</th>\n",
              "      <th>int_income</th>\n",
              "    </tr>\n",
              "  </thead>\n",
              "  <tbody>\n",
              "    <tr>\n",
              "      <th>0</th>\n",
              "      <td>4337954960</td>\n",
              "      <td>Yes</td>\n",
              "      <td>Turkey</td>\n",
              "      <td>NaN</td>\n",
              "      <td>Baked</td>\n",
              "      <td>NaN</td>\n",
              "      <td>Bread-based</td>\n",
              "      <td>NaN</td>\n",
              "      <td>None</td>\n",
              "      <td>NaN</td>\n",
              "      <td>...</td>\n",
              "      <td>No</td>\n",
              "      <td>No</td>\n",
              "      <td>NaN</td>\n",
              "      <td>Suburban</td>\n",
              "      <td>18 - 29</td>\n",
              "      <td>Male</td>\n",
              "      <td>$75,000 to $99,999</td>\n",
              "      <td>Middle Atlantic</td>\n",
              "      <td>18</td>\n",
              "      <td>75000</td>\n",
              "    </tr>\n",
              "    <tr>\n",
              "      <th>1</th>\n",
              "      <td>4337951949</td>\n",
              "      <td>Yes</td>\n",
              "      <td>Turkey</td>\n",
              "      <td>NaN</td>\n",
              "      <td>Baked</td>\n",
              "      <td>NaN</td>\n",
              "      <td>Bread-based</td>\n",
              "      <td>NaN</td>\n",
              "      <td>Other (please specify)</td>\n",
              "      <td>Homemade cranberry gelatin ring</td>\n",
              "      <td>...</td>\n",
              "      <td>Yes</td>\n",
              "      <td>No</td>\n",
              "      <td>NaN</td>\n",
              "      <td>Rural</td>\n",
              "      <td>18 - 29</td>\n",
              "      <td>Female</td>\n",
              "      <td>$50,000 to $74,999</td>\n",
              "      <td>East South Central</td>\n",
              "      <td>18</td>\n",
              "      <td>50000</td>\n",
              "    </tr>\n",
              "    <tr>\n",
              "      <th>2</th>\n",
              "      <td>4337935621</td>\n",
              "      <td>Yes</td>\n",
              "      <td>Turkey</td>\n",
              "      <td>NaN</td>\n",
              "      <td>Roasted</td>\n",
              "      <td>NaN</td>\n",
              "      <td>Rice-based</td>\n",
              "      <td>NaN</td>\n",
              "      <td>Homemade</td>\n",
              "      <td>NaN</td>\n",
              "      <td>...</td>\n",
              "      <td>Yes</td>\n",
              "      <td>No</td>\n",
              "      <td>NaN</td>\n",
              "      <td>Suburban</td>\n",
              "      <td>18 - 29</td>\n",
              "      <td>Male</td>\n",
              "      <td>$0 to $9,999</td>\n",
              "      <td>Mountain</td>\n",
              "      <td>18</td>\n",
              "      <td>0</td>\n",
              "    </tr>\n",
              "    <tr>\n",
              "      <th>3</th>\n",
              "      <td>4337933040</td>\n",
              "      <td>Yes</td>\n",
              "      <td>Turkey</td>\n",
              "      <td>NaN</td>\n",
              "      <td>Baked</td>\n",
              "      <td>NaN</td>\n",
              "      <td>Bread-based</td>\n",
              "      <td>NaN</td>\n",
              "      <td>Homemade</td>\n",
              "      <td>NaN</td>\n",
              "      <td>...</td>\n",
              "      <td>No</td>\n",
              "      <td>No</td>\n",
              "      <td>NaN</td>\n",
              "      <td>Urban</td>\n",
              "      <td>30 - 44</td>\n",
              "      <td>Male</td>\n",
              "      <td>$200,000 and up</td>\n",
              "      <td>Pacific</td>\n",
              "      <td>30</td>\n",
              "      <td>200000</td>\n",
              "    </tr>\n",
              "    <tr>\n",
              "      <th>4</th>\n",
              "      <td>4337931983</td>\n",
              "      <td>Yes</td>\n",
              "      <td>Tofurkey</td>\n",
              "      <td>NaN</td>\n",
              "      <td>Baked</td>\n",
              "      <td>NaN</td>\n",
              "      <td>Bread-based</td>\n",
              "      <td>NaN</td>\n",
              "      <td>Canned</td>\n",
              "      <td>NaN</td>\n",
              "      <td>...</td>\n",
              "      <td>No</td>\n",
              "      <td>No</td>\n",
              "      <td>NaN</td>\n",
              "      <td>Urban</td>\n",
              "      <td>30 - 44</td>\n",
              "      <td>Male</td>\n",
              "      <td>$100,000 to $124,999</td>\n",
              "      <td>Pacific</td>\n",
              "      <td>30</td>\n",
              "      <td>100000</td>\n",
              "    </tr>\n",
              "  </tbody>\n",
              "</table>\n",
              "<p>5 rows × 67 columns</p>\n",
              "</div>\n",
              "    <div class=\"colab-df-buttons\">\n",
              "\n",
              "  <div class=\"colab-df-container\">\n",
              "    <button class=\"colab-df-convert\" onclick=\"convertToInteractive('df-4478e030-5148-493f-82dd-73836a2b9ca3')\"\n",
              "            title=\"Convert this dataframe to an interactive table.\"\n",
              "            style=\"display:none;\">\n",
              "\n",
              "  <svg xmlns=\"http://www.w3.org/2000/svg\" height=\"24px\" viewBox=\"0 -960 960 960\">\n",
              "    <path d=\"M120-120v-720h720v720H120Zm60-500h600v-160H180v160Zm220 220h160v-160H400v160Zm0 220h160v-160H400v160ZM180-400h160v-160H180v160Zm440 0h160v-160H620v160ZM180-180h160v-160H180v160Zm440 0h160v-160H620v160Z\"/>\n",
              "  </svg>\n",
              "    </button>\n",
              "\n",
              "  <style>\n",
              "    .colab-df-container {\n",
              "      display:flex;\n",
              "      gap: 12px;\n",
              "    }\n",
              "\n",
              "    .colab-df-convert {\n",
              "      background-color: #E8F0FE;\n",
              "      border: none;\n",
              "      border-radius: 50%;\n",
              "      cursor: pointer;\n",
              "      display: none;\n",
              "      fill: #1967D2;\n",
              "      height: 32px;\n",
              "      padding: 0 0 0 0;\n",
              "      width: 32px;\n",
              "    }\n",
              "\n",
              "    .colab-df-convert:hover {\n",
              "      background-color: #E2EBFA;\n",
              "      box-shadow: 0px 1px 2px rgba(60, 64, 67, 0.3), 0px 1px 3px 1px rgba(60, 64, 67, 0.15);\n",
              "      fill: #174EA6;\n",
              "    }\n",
              "\n",
              "    .colab-df-buttons div {\n",
              "      margin-bottom: 4px;\n",
              "    }\n",
              "\n",
              "    [theme=dark] .colab-df-convert {\n",
              "      background-color: #3B4455;\n",
              "      fill: #D2E3FC;\n",
              "    }\n",
              "\n",
              "    [theme=dark] .colab-df-convert:hover {\n",
              "      background-color: #434B5C;\n",
              "      box-shadow: 0px 1px 3px 1px rgba(0, 0, 0, 0.15);\n",
              "      filter: drop-shadow(0px 1px 2px rgba(0, 0, 0, 0.3));\n",
              "      fill: #FFFFFF;\n",
              "    }\n",
              "  </style>\n",
              "\n",
              "    <script>\n",
              "      const buttonEl =\n",
              "        document.querySelector('#df-4478e030-5148-493f-82dd-73836a2b9ca3 button.colab-df-convert');\n",
              "      buttonEl.style.display =\n",
              "        google.colab.kernel.accessAllowed ? 'block' : 'none';\n",
              "\n",
              "      async function convertToInteractive(key) {\n",
              "        const element = document.querySelector('#df-4478e030-5148-493f-82dd-73836a2b9ca3');\n",
              "        const dataTable =\n",
              "          await google.colab.kernel.invokeFunction('convertToInteractive',\n",
              "                                                    [key], {});\n",
              "        if (!dataTable) return;\n",
              "\n",
              "        const docLinkHtml = 'Like what you see? Visit the ' +\n",
              "          '<a target=\"_blank\" href=https://colab.research.google.com/notebooks/data_table.ipynb>data table notebook</a>'\n",
              "          + ' to learn more about interactive tables.';\n",
              "        element.innerHTML = '';\n",
              "        dataTable['output_type'] = 'display_data';\n",
              "        await google.colab.output.renderOutput(dataTable, element);\n",
              "        const docLink = document.createElement('div');\n",
              "        docLink.innerHTML = docLinkHtml;\n",
              "        element.appendChild(docLink);\n",
              "      }\n",
              "    </script>\n",
              "  </div>\n",
              "\n",
              "\n",
              "<div id=\"df-946976df-4a58-4e8d-a82a-77bc027a574d\">\n",
              "  <button class=\"colab-df-quickchart\" onclick=\"quickchart('df-946976df-4a58-4e8d-a82a-77bc027a574d')\"\n",
              "            title=\"Suggest charts\"\n",
              "            style=\"display:none;\">\n",
              "\n",
              "<svg xmlns=\"http://www.w3.org/2000/svg\" height=\"24px\"viewBox=\"0 0 24 24\"\n",
              "     width=\"24px\">\n",
              "    <g>\n",
              "        <path d=\"M19 3H5c-1.1 0-2 .9-2 2v14c0 1.1.9 2 2 2h14c1.1 0 2-.9 2-2V5c0-1.1-.9-2-2-2zM9 17H7v-7h2v7zm4 0h-2V7h2v10zm4 0h-2v-4h2v4z\"/>\n",
              "    </g>\n",
              "</svg>\n",
              "  </button>\n",
              "\n",
              "<style>\n",
              "  .colab-df-quickchart {\n",
              "      --bg-color: #E8F0FE;\n",
              "      --fill-color: #1967D2;\n",
              "      --hover-bg-color: #E2EBFA;\n",
              "      --hover-fill-color: #174EA6;\n",
              "      --disabled-fill-color: #AAA;\n",
              "      --disabled-bg-color: #DDD;\n",
              "  }\n",
              "\n",
              "  [theme=dark] .colab-df-quickchart {\n",
              "      --bg-color: #3B4455;\n",
              "      --fill-color: #D2E3FC;\n",
              "      --hover-bg-color: #434B5C;\n",
              "      --hover-fill-color: #FFFFFF;\n",
              "      --disabled-bg-color: #3B4455;\n",
              "      --disabled-fill-color: #666;\n",
              "  }\n",
              "\n",
              "  .colab-df-quickchart {\n",
              "    background-color: var(--bg-color);\n",
              "    border: none;\n",
              "    border-radius: 50%;\n",
              "    cursor: pointer;\n",
              "    display: none;\n",
              "    fill: var(--fill-color);\n",
              "    height: 32px;\n",
              "    padding: 0;\n",
              "    width: 32px;\n",
              "  }\n",
              "\n",
              "  .colab-df-quickchart:hover {\n",
              "    background-color: var(--hover-bg-color);\n",
              "    box-shadow: 0 1px 2px rgba(60, 64, 67, 0.3), 0 1px 3px 1px rgba(60, 64, 67, 0.15);\n",
              "    fill: var(--button-hover-fill-color);\n",
              "  }\n",
              "\n",
              "  .colab-df-quickchart-complete:disabled,\n",
              "  .colab-df-quickchart-complete:disabled:hover {\n",
              "    background-color: var(--disabled-bg-color);\n",
              "    fill: var(--disabled-fill-color);\n",
              "    box-shadow: none;\n",
              "  }\n",
              "\n",
              "  .colab-df-spinner {\n",
              "    border: 2px solid var(--fill-color);\n",
              "    border-color: transparent;\n",
              "    border-bottom-color: var(--fill-color);\n",
              "    animation:\n",
              "      spin 1s steps(1) infinite;\n",
              "  }\n",
              "\n",
              "  @keyframes spin {\n",
              "    0% {\n",
              "      border-color: transparent;\n",
              "      border-bottom-color: var(--fill-color);\n",
              "      border-left-color: var(--fill-color);\n",
              "    }\n",
              "    20% {\n",
              "      border-color: transparent;\n",
              "      border-left-color: var(--fill-color);\n",
              "      border-top-color: var(--fill-color);\n",
              "    }\n",
              "    30% {\n",
              "      border-color: transparent;\n",
              "      border-left-color: var(--fill-color);\n",
              "      border-top-color: var(--fill-color);\n",
              "      border-right-color: var(--fill-color);\n",
              "    }\n",
              "    40% {\n",
              "      border-color: transparent;\n",
              "      border-right-color: var(--fill-color);\n",
              "      border-top-color: var(--fill-color);\n",
              "    }\n",
              "    60% {\n",
              "      border-color: transparent;\n",
              "      border-right-color: var(--fill-color);\n",
              "    }\n",
              "    80% {\n",
              "      border-color: transparent;\n",
              "      border-right-color: var(--fill-color);\n",
              "      border-bottom-color: var(--fill-color);\n",
              "    }\n",
              "    90% {\n",
              "      border-color: transparent;\n",
              "      border-bottom-color: var(--fill-color);\n",
              "    }\n",
              "  }\n",
              "</style>\n",
              "\n",
              "  <script>\n",
              "    async function quickchart(key) {\n",
              "      const quickchartButtonEl =\n",
              "        document.querySelector('#' + key + ' button');\n",
              "      quickchartButtonEl.disabled = true;  // To prevent multiple clicks.\n",
              "      quickchartButtonEl.classList.add('colab-df-spinner');\n",
              "      try {\n",
              "        const charts = await google.colab.kernel.invokeFunction(\n",
              "            'suggestCharts', [key], {});\n",
              "      } catch (error) {\n",
              "        console.error('Error during call to suggestCharts:', error);\n",
              "      }\n",
              "      quickchartButtonEl.classList.remove('colab-df-spinner');\n",
              "      quickchartButtonEl.classList.add('colab-df-quickchart-complete');\n",
              "    }\n",
              "    (() => {\n",
              "      let quickchartButtonEl =\n",
              "        document.querySelector('#df-946976df-4a58-4e8d-a82a-77bc027a574d button');\n",
              "      quickchartButtonEl.style.display =\n",
              "        google.colab.kernel.accessAllowed ? 'block' : 'none';\n",
              "    })();\n",
              "  </script>\n",
              "</div>\n",
              "    </div>\n",
              "  </div>\n"
            ]
          },
          "metadata": {},
          "execution_count": 18
        }
      ],
      "source": [
        "### Write your code below this comment.\n",
        "df.head()"
      ]
    },
    {
      "cell_type": "markdown",
      "metadata": {
        "id": "dqw_qOFtxi6F"
      },
      "source": [
        "### Using the newly created numerical income column, can you generate some descriptive statistics (such as mean, standard deviation, minimum, maximum etc) about this column?\n",
        "<u>Note:</u> Use a single method that gives you all the statistics."
      ]
    },
    {
      "cell_type": "code",
      "execution_count": 19,
      "metadata": {
        "colab": {
          "base_uri": "https://localhost:8080/"
        },
        "id": "_NXsATwCxi6F",
        "outputId": "3e9cca54-9e3e-44b9-f56c-d95744b50bd5"
      },
      "outputs": [
        {
          "output_type": "stream",
          "name": "stdout",
          "text": [
            "count           889.0\n",
            "mean     74077.615298\n",
            "std      59360.742902\n",
            "min               0.0\n",
            "25%           25000.0\n",
            "50%           50000.0\n",
            "75%          100000.0\n",
            "max          200000.0\n",
            "Name: int_income, dtype: Float64\n"
          ]
        }
      ],
      "source": [
        "### Write your code below this comment.\n",
        "income_statistics = df['int_income'].describe()\n",
        "\n",
        "print(income_statistics)"
      ]
    },
    {
      "cell_type": "markdown",
      "metadata": {
        "id": "pNq1IkZjxi6F"
      },
      "source": [
        "### Can you figure out how far people with an income less than 15000 travel for Thanksgiving?"
      ]
    },
    {
      "cell_type": "code",
      "execution_count": 20,
      "metadata": {
        "colab": {
          "base_uri": "https://localhost:8080/"
        },
        "id": "EhU35fidxi6L",
        "outputId": "be2b4a34-6848-4303-fef0-51d6dd2ee86a"
      },
      "outputs": [
        {
          "output_type": "stream",
          "name": "stdout",
          "text": [
            "Travel distances for people with an income less than 15000:\n",
            "Thanksgiving is happening at my home--I won't travel at all                         46\n",
            "Thanksgiving is local--it will take place in the town I live in                     38\n",
            "Thanksgiving is out of town but not too far--it's a drive of a few hours or less    22\n",
            "Thanksgiving is out of town and far away--I have to drive several hours or fly       6\n",
            "Name: How far will you travel for Thanksgiving?, dtype: int64\n"
          ]
        }
      ],
      "source": [
        "### Write your code below this comment.\n",
        "low_income_df = df[df['int_income'] < 15000]\n",
        "\n",
        "travel_distances_counts = low_income_df['How far will you travel for Thanksgiving?'].value_counts()\n",
        "print(\"Travel distances for people with an income less than 15000:\")\n",
        "print(travel_distances_counts)"
      ]
    },
    {
      "cell_type": "markdown",
      "metadata": {
        "id": "x81i-0i1xi6L"
      },
      "source": [
        "### Also, can you figure out how far people with an income greater than 15000 travel for Thanksgiving?"
      ]
    },
    {
      "cell_type": "code",
      "execution_count": 21,
      "metadata": {
        "colab": {
          "base_uri": "https://localhost:8080/"
        },
        "id": "RmgL_KYQxi6L",
        "outputId": "9d4bd77c-d892-460d-f756-9a00006ccf90"
      },
      "outputs": [
        {
          "output_type": "stream",
          "name": "stdout",
          "text": [
            "Travel distances for people with an income less than 15000:\n",
            "Thanksgiving is happening at my home--I won't travel at all                         301\n",
            "Thanksgiving is local--it will take place in the town I live in                     199\n",
            "Thanksgiving is out of town but not too far--it's a drive of a few hours or less    153\n",
            "Thanksgiving is out of town and far away--I have to drive several hours or fly       64\n",
            "Name: How far will you travel for Thanksgiving?, dtype: int64\n"
          ]
        }
      ],
      "source": [
        "### Write your code below this comment.\n",
        "low_income_df = df[df['int_income'] > 15000]\n",
        "\n",
        "travel_distances_counts = low_income_df['How far will you travel for Thanksgiving?'].value_counts()\n",
        "print(\"Travel distances for people with an income less than 15000:\")\n",
        "print(travel_distances_counts)"
      ]
    },
    {
      "cell_type": "markdown",
      "metadata": {
        "id": "gLL9Fz0Dxi6L"
      },
      "source": [
        "### Can you figure out the mean age of those who ever attended a \"Friendsgiving\" and also tried to meet up with hometown friends on Thanksgiving night?"
      ]
    },
    {
      "cell_type": "code",
      "execution_count": 22,
      "metadata": {
        "colab": {
          "base_uri": "https://localhost:8080/"
        },
        "id": "pqTMT6vTxi6M",
        "outputId": "ba0a50ca-61e8-4ec3-be61-a31bc2b3d5fd"
      },
      "outputs": [
        {
          "output_type": "stream",
          "name": "stdout",
          "text": [
            "Mean age of those who attended a Friendsgiving and tried to meet up with hometown friends on Thanksgiving night: 33.97674418604651\n"
          ]
        }
      ],
      "source": [
        "### Write your code below this comment.\n",
        "\n",
        "friendsgiving_condition = df['Have you ever attended a \"Friendsgiving?\"'] == 'Yes'\n",
        "meetup_condition = df['Have you ever tried to meet up with hometown friends on Thanksgiving night?'] == 'Yes'\n",
        "\n",
        "filtered_df = df[friendsgiving_condition & meetup_condition]\n",
        "mean_age_friendsgiving_meetup = filtered_df['int_age'].mean()\n",
        "\n",
        "print(\"Mean age of those who attended a Friendsgiving and tried to meet up with hometown friends on Thanksgiving night:\", mean_age_friendsgiving_meetup)\n"
      ]
    },
    {
      "cell_type": "markdown",
      "metadata": {
        "id": "4RPdoI8jxi6M"
      },
      "source": [
        "### Can you save the resulting dataframe (which includes the numerical age and income columns) as a CSV file?"
      ]
    },
    {
      "cell_type": "code",
      "execution_count": 23,
      "metadata": {
        "id": "WglYsfPRxi6M"
      },
      "outputs": [],
      "source": [
        "### Write your code below this comment.\n",
        "df.to_csv('/content/df.csv', index=False)\n"
      ]
    }
  ],
  "metadata": {
    "kernelspec": {
      "display_name": "Python 3",
      "language": "python",
      "name": "python3"
    },
    "language_info": {
      "codemirror_mode": {
        "name": "ipython",
        "version": 3
      },
      "file_extension": ".py",
      "mimetype": "text/x-python",
      "name": "python",
      "nbconvert_exporter": "python",
      "pygments_lexer": "ipython3",
      "version": "3.7.4"
    },
    "colab": {
      "provenance": []
    }
  },
  "nbformat": 4,
  "nbformat_minor": 0
}