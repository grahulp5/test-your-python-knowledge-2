{
 "cells": [
  {
   "cell_type": "markdown",
   "metadata": {},
   "source": [
    "# Assignment 2 - Analyzing Thanksgiving Dinner"
   ]
  },
  {
   "cell_type": "markdown",
   "metadata": {},
   "source": [
    "In this assignment, you will work with the **Thanksgiving Dinner Dataset**. The dataset was created by FiveThirtyEight using a SurveyMonkey poll, in which they asked 1,058 respondents on Nov. 17, 2015 a number of questions regarding their Thanksgiving preferences.\n",
    "\n",
    "No details are needed for the attributes of this dataset as each column is a long self-explanatory string. You would have to read this dataset using a specific encoding scheme (Hint: Latin), otherwise it would result in read errors."
   ]
  },
  {
   "cell_type": "code",
   "execution_count": 1,
   "metadata": {},
   "outputs": [],
   "source": [
    "### Write your code below this comment."
   ]
  },
  {
   "cell_type": "markdown",
   "metadata": {},
   "source": [
    "### Can you report the number of rows and columns in this dataset?"
   ]
  },
  {
   "cell_type": "code",
   "execution_count": 2,
   "metadata": {},
   "outputs": [],
   "source": [
    "### Write your code below this comment."
   ]
  },
  {
   "cell_type": "markdown",
   "metadata": {},
   "source": [
    "### Can you access the column labeled `Do you celebrate Thanksgiving?` both as a Series and Dataframe?"
   ]
  },
  {
   "cell_type": "code",
   "execution_count": 3,
   "metadata": {},
   "outputs": [],
   "source": [
    "### Write your code below this comment."
   ]
  },
  {
   "cell_type": "markdown",
   "metadata": {},
   "source": [
    "### Can you report how many people responded 'Yes' and 'No' to the question 'Do you celebrate Thanksgiving?' "
   ]
  },
  {
   "cell_type": "code",
   "execution_count": 4,
   "metadata": {},
   "outputs": [],
   "source": [
    "### Write your code below this comment."
   ]
  },
  {
   "cell_type": "markdown",
   "metadata": {},
   "source": [
    "### Can you plot a bar chart of the proportion (percentage) of people who responded 'Yes' and 'No' to the question 'Do you celebrate Thanksgiving?'\n",
    "<u>Note:</u> For this, you would need to neglect people who opted not to respond to this question."
   ]
  },
  {
   "cell_type": "code",
   "execution_count": 5,
   "metadata": {},
   "outputs": [],
   "source": [
    "### Write your code below this comment."
   ]
  },
  {
   "cell_type": "markdown",
   "metadata": {},
   "source": [
    "### Can you report the counts of each of the different responses to the question 'What is typically the main dish at your Thanksgiving dinner?' "
   ]
  },
  {
   "cell_type": "code",
   "execution_count": 6,
   "metadata": {},
   "outputs": [],
   "source": [
    "### Write your code below this comment."
   ]
  },
  {
   "cell_type": "markdown",
   "metadata": {},
   "source": [
    "### Can you plot a bar chart of the proportion (percentage) of each of the different responses to the question 'What is typically the main dish at your Thanksgiving dinner?'\n",
    "<u>Note:</u> For this as well, you would need to neglect people who opted not to respond to this question."
   ]
  },
  {
   "cell_type": "code",
   "execution_count": 7,
   "metadata": {},
   "outputs": [],
   "source": [
    "### Write your code below this comment."
   ]
  },
  {
   "cell_type": "markdown",
   "metadata": {},
   "source": [
    "### Can you get the list of all columns this dataset has?\n",
    "<u>Note:</u> This is because we can see that not all columns are visible from the displayed dataframe."
   ]
  },
  {
   "cell_type": "code",
   "execution_count": 8,
   "metadata": {},
   "outputs": [],
   "source": [
    "### Write your code below this comment."
   ]
  },
  {
   "cell_type": "markdown",
   "metadata": {},
   "source": [
    "### Can you get the integer indices of the the following columns programmatically (i.e. without manually counting the index of the column)?\n",
    "<u>Note:</u> I want you to do this as I would like you to access these columns more succintly (using just their integer indices instead of labels) going forward into the assignment."
   ]
  },
  {
   "cell_type": "markdown",
   "metadata": {
    "scrolled": false
   },
   "source": [
    "```Do you typically have gravy?```\n",
    "\n",
    "```Which type of pie is typically served at your Thanksgiving dinner? Please select all that apply. - Apple```\n",
    "\n",
    "```Which type of pie is typically served at your Thanksgiving dinner? Please select all that apply. - Pecan```\n",
    "\n",
    "```Which type of pie is typically served at your Thanksgiving dinner? Please select all that apply. - Pumpkin```\n",
    "\n",
    "```How far will you travel for Thanksgiving?```\n",
    "\n",
    "```Have you ever tried to meet up with hometown friends on Thanksgiving night?```\n",
    "\n",
    "```Have you ever attended a \"Friendsgiving?```\n",
    "\n",
    "```How much total combined money did all members of your HOUSEHOLD earn last year?```"
   ]
  },
  {
   "cell_type": "code",
   "execution_count": 9,
   "metadata": {},
   "outputs": [],
   "source": [
    "### Write your code below this comment."
   ]
  },
  {
   "cell_type": "markdown",
   "metadata": {},
   "source": [
    "### Can you report the total number of people who typically have gravy and the main dish at their Thanksgiving dinner was Tofurkey?"
   ]
  },
  {
   "cell_type": "code",
   "execution_count": 10,
   "metadata": {},
   "outputs": [],
   "source": [
    "### Write your code below this comment."
   ]
  },
  {
   "cell_type": "markdown",
   "metadata": {},
   "source": [
    "### Can you report the total number of people who typically have all three types of pie served at their Thanksgiving dinner?"
   ]
  },
  {
   "cell_type": "code",
   "execution_count": 11,
   "metadata": {},
   "outputs": [],
   "source": [
    "### Write your code below this comment."
   ]
  },
  {
   "cell_type": "markdown",
   "metadata": {},
   "source": [
    "### Can you report the total number of people who didn't check any of the options (Apple, Pecan, or Pumpkin) in response to the question \"Which type of pie is typically served at your Thanksgiving dinner\"?"
   ]
  },
  {
   "cell_type": "code",
   "execution_count": 12,
   "metadata": {},
   "outputs": [],
   "source": [
    "### Write your code below this comment."
   ]
  },
  {
   "cell_type": "markdown",
   "metadata": {},
   "source": [
    "### Can you report the number of people in each of the four different age groups?"
   ]
  },
  {
   "cell_type": "code",
   "execution_count": 13,
   "metadata": {},
   "outputs": [],
   "source": [
    "### Write your code below this comment."
   ]
  },
  {
   "cell_type": "markdown",
   "metadata": {},
   "source": [
    "### Can you write a small function to extract the numerical age for each person from the categorical variable \"Age\"? Create a new column \"int_age\" that contains the numerical data.\n",
    "<u>Note:</u> To keep things simple, assume that the numerical age of each person is the lower bound of the age group. For example, the numerical age for a person in the group 45 - 59 would be 45. However, for the last 60+ group, the age would be 60."
   ]
  },
  {
   "cell_type": "code",
   "execution_count": 14,
   "metadata": {},
   "outputs": [],
   "source": [
    "### Write your code below this comment."
   ]
  },
  {
   "cell_type": "markdown",
   "metadata": {},
   "source": [
    "### Can you report the most frequent income bracket in response to the question \"How much total combined money did all members of your HOUSEHOLD earn last year\"?"
   ]
  },
  {
   "cell_type": "code",
   "execution_count": 15,
   "metadata": {},
   "outputs": [],
   "source": [
    "### Write your code below this comment."
   ]
  },
  {
   "cell_type": "markdown",
   "metadata": {},
   "source": [
    "### Can you write a small function to extract the numerical income for each person from the categorical variable \"How much total combined money did all members of your HOUSEHOLD earn last year\"? Create a new column \"int_income\" that contains the numerical data.\n",
    "<u>Note:</u> To keep things simple, assume that the numerical income of each person is the lower bound of the income group. For example, the numerical income for a person in the group \"75,000 to 99,999\" would be 75000."
   ]
  },
  {
   "cell_type": "code",
   "execution_count": 16,
   "metadata": {},
   "outputs": [],
   "source": [
    "### Write your code below this comment."
   ]
  },
  {
   "cell_type": "markdown",
   "metadata": {},
   "source": [
    "### Now display the first five rows of your dataset."
   ]
  },
  {
   "cell_type": "code",
   "execution_count": 17,
   "metadata": {},
   "outputs": [],
   "source": [
    "### Write your code below this comment."
   ]
  },
  {
   "cell_type": "markdown",
   "metadata": {},
   "source": [
    "### Using the newly created numerical income column, can you generate some descriptive statistics (such as mean, standard deviation, minimum, maximum etc) about this column?\n",
    "<u>Note:</u> Use a single method that gives you all the statistics."
   ]
  },
  {
   "cell_type": "code",
   "execution_count": 18,
   "metadata": {},
   "outputs": [],
   "source": [
    "### Write your code below this comment."
   ]
  },
  {
   "cell_type": "markdown",
   "metadata": {},
   "source": [
    "### Can you figure out how far people with an income less than 15000 travel for Thanksgiving?"
   ]
  },
  {
   "cell_type": "code",
   "execution_count": 19,
   "metadata": {},
   "outputs": [],
   "source": [
    "### Write your code below this comment."
   ]
  },
  {
   "cell_type": "markdown",
   "metadata": {},
   "source": [
    "### Also, can you figure out how far people with an income greater than 15000 travel for Thanksgiving?"
   ]
  },
  {
   "cell_type": "code",
   "execution_count": 20,
   "metadata": {},
   "outputs": [],
   "source": [
    "### Write your code below this comment."
   ]
  },
  {
   "cell_type": "markdown",
   "metadata": {},
   "source": [
    "### Can you figure out the mean age of those who ever attended a \"Friendsgiving\" and also tried to meet up with hometown friends on Thanksgiving night?"
   ]
  },
  {
   "cell_type": "code",
   "execution_count": 21,
   "metadata": {},
   "outputs": [],
   "source": [
    "### Write your code below this comment."
   ]
  },
  {
   "cell_type": "markdown",
   "metadata": {},
   "source": [
    "### Can you save the resulting dataframe (which includes the numerical age and income columns) as a CSV file?"
   ]
  },
  {
   "cell_type": "code",
   "execution_count": 22,
   "metadata": {},
   "outputs": [],
   "source": [
    "### Write your code below this comment."
   ]
  }
 ],
 "metadata": {
  "kernelspec": {
   "display_name": "Python 3",
   "language": "python",
   "name": "python3"
  },
  "language_info": {
   "codemirror_mode": {
    "name": "ipython",
    "version": 3
   },
   "file_extension": ".py",
   "mimetype": "text/x-python",
   "name": "python",
   "nbconvert_exporter": "python",
   "pygments_lexer": "ipython3",
   "version": "3.7.4"
  }
 },
 "nbformat": 4,
 "nbformat_minor": 1
}
